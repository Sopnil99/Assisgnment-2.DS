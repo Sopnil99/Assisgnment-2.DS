{
 "cells": [
  {
   "cell_type": "code",
   "execution_count": 1,
   "id": "4a5be73c",
   "metadata": {},
   "outputs": [
    {
     "name": "stdout",
     "output_type": "stream",
     "text": [
      "Enter Length : 4\n",
      "Enter Breadth : 4\n"
     ]
    }
   ],
   "source": [
    "L=int(input(\"Enter Length : \")) #1 number\n",
    "B=int(input(\"Enter Breadth : \"))"
   ]
  },
  {
   "cell_type": "code",
   "execution_count": 2,
   "id": "343d34f6",
   "metadata": {},
   "outputs": [
    {
     "name": "stdout",
     "output_type": "stream",
     "text": [
      "True for Square\n"
     ]
    }
   ],
   "source": [
    "if L==B:\n",
    "    print(\"True for Square\")\n",
    "else:\n",
    "    print(\"Not a Square\")"
   ]
  },
  {
   "cell_type": "code",
   "execution_count": 3,
   "id": "83793e07",
   "metadata": {},
   "outputs": [
    {
     "name": "stdout",
     "output_type": "stream",
     "text": [
      "Enter First Number : 10\n",
      "Enter Second Number : 16\n",
      "Enter Third Number : 40\n"
     ]
    }
   ],
   "source": [
    "a=float(input(\"Enter First Number : \")) #2 number question\n",
    "b=float(input(\"Enter Second Number : \"))\n",
    "c=float(input(\"Enter Third Number : \"))"
   ]
  },
  {
   "cell_type": "code",
   "execution_count": 4,
   "id": "9b8a39d7",
   "metadata": {},
   "outputs": [
    {
     "name": "stdout",
     "output_type": "stream",
     "text": [
      "The largest number is 40.0\n"
     ]
    }
   ],
   "source": [
    "if (a >= b) and (a >= c):\n",
    "   largest = a\n",
    "elif (b >= a) and (b >= c):\n",
    "   largest = b\n",
    "else:\n",
    "   largest = c\n",
    "\n",
    "print(\"The largest number is\", largest)"
   ]
  },
  {
   "cell_type": "code",
   "execution_count": 5,
   "id": "55fcc4ac",
   "metadata": {},
   "outputs": [
    {
     "name": "stdout",
     "output_type": "stream",
     "text": [
      "Number of classes held : 45\n",
      "Number of classes attend : 37\n"
     ]
    }
   ],
   "source": [
    "H=float(input(\"Number of classes held : \")) #3 number question\n",
    "A=float(input(\"Number of classes attend : \"))\n",
    "P=(A/H)*100"
   ]
  },
  {
   "cell_type": "code",
   "execution_count": 6,
   "id": "73cda67e",
   "metadata": {},
   "outputs": [
    {
     "name": "stdout",
     "output_type": "stream",
     "text": [
      "You are Eligible\n"
     ]
    }
   ],
   "source": [
    "if P>=75:\n",
    "    print(\"You are Eligible\")\n",
    "else:\n",
    "    print(\"You are not Eligible\")"
   ]
  },
  {
   "cell_type": "code",
   "execution_count": 7,
   "id": "b0ee1e02",
   "metadata": {},
   "outputs": [
    {
     "name": "stdout",
     "output_type": "stream",
     "text": [
      "Enter your obtained number : 80\n",
      "you got A\n"
     ]
    }
   ],
   "source": [
    "G=float(input(\"Enter your obtained number : \")) #4 number question\n",
    "if G>=90 and G<=100:\n",
    "    print(\"You got A+\")\n",
    "elif G>=80 and G<=89:\n",
    "    print(\"you got A\")\n",
    "elif G>=60 and G<=79:\n",
    "    print(\"You got B\")\n",
    "elif G>=50 and G<=59:\n",
    "    print(\"You got C\")\n",
    "elif G>=45 and G<=49:\n",
    "    print(\"You got D\")\n",
    "elif G>=25 and G<=44:\n",
    "    print(\"You got E\")\n",
    "elif G>=0 and G<=24:\n",
    "    print(\"You got F\")\n",
    "else:\n",
    "    print(\"invalid\")"
   ]
  },
  {
   "cell_type": "code",
   "execution_count": 8,
   "id": "45583cfe",
   "metadata": {},
   "outputs": [
    {
     "name": "stdout",
     "output_type": "stream",
     "text": [
      "1\n",
      "2\n",
      "3\n",
      "4\n",
      "5\n",
      "6\n",
      "7\n"
     ]
    }
   ],
   "source": [
    "i=1 #5 number question\n",
    "while (i<=7):\n",
    "    print(i)\n",
    "    i=i+1"
   ]
  },
  {
   "cell_type": "code",
   "execution_count": 9,
   "id": "84660e22",
   "metadata": {},
   "outputs": [
    {
     "name": "stdout",
     "output_type": "stream",
     "text": [
      "1\n",
      "2\n",
      "3\n",
      "4\n",
      "5\n",
      "6\n",
      "7\n"
     ]
    }
   ],
   "source": [
    "i=1 #5 number question\n",
    "while (i<=7):\n",
    "    print(i)\n",
    "    i=i+1"
   ]
  },
  {
   "cell_type": "code",
   "execution_count": 10,
   "id": "b888c688",
   "metadata": {},
   "outputs": [],
   "source": [
    "Li=[1,3,5,[2,3],True] #12 number question"
   ]
  },
  {
   "cell_type": "code",
   "execution_count": 11,
   "id": "e8bd7850",
   "metadata": {},
   "outputs": [
    {
     "data": {
      "text/plain": [
       "[1, 3, 5, [2, 3], True]"
      ]
     },
     "execution_count": 11,
     "metadata": {},
     "output_type": "execute_result"
    }
   ],
   "source": [
    "Li"
   ]
  },
  {
   "cell_type": "code",
   "execution_count": 12,
   "id": "f283417d",
   "metadata": {},
   "outputs": [],
   "source": [
    "Li[3][0]=3"
   ]
  },
  {
   "cell_type": "code",
   "execution_count": 13,
   "id": "c90a5a43",
   "metadata": {},
   "outputs": [
    {
     "data": {
      "text/plain": [
       "[1, 3, 5, [3, 3], True]"
      ]
     },
     "execution_count": 13,
     "metadata": {},
     "output_type": "execute_result"
    }
   ],
   "source": [
    "Li"
   ]
  },
  {
   "cell_type": "code",
   "execution_count": 14,
   "id": "ff6ada61",
   "metadata": {},
   "outputs": [],
   "source": [
    "Li[4]=False"
   ]
  },
  {
   "cell_type": "code",
   "execution_count": 15,
   "id": "04e95f6d",
   "metadata": {},
   "outputs": [
    {
     "data": {
      "text/plain": [
       "[1, 3, 5, [3, 3], False]"
      ]
     },
     "execution_count": 15,
     "metadata": {},
     "output_type": "execute_result"
    }
   ],
   "source": [
    "Li"
   ]
  },
  {
   "cell_type": "code",
   "execution_count": 16,
   "id": "9a2bdd29",
   "metadata": {},
   "outputs": [
    {
     "data": {
      "text/plain": [
       "{True}"
      ]
     },
     "execution_count": 16,
     "metadata": {},
     "output_type": "execute_result"
    }
   ],
   "source": [
    "S1={1,4,6,8} #13 number question\n",
    "S2={True, 1,2,10}\n",
    "S1.intersection(S2)"
   ]
  },
  {
   "cell_type": "code",
   "execution_count": 17,
   "id": "34c2d1d3",
   "metadata": {},
   "outputs": [],
   "source": [
    "#15 number question\n",
    "dic={\n",
    "    'name': 'Sopnil', \n",
    "    'age':28, \n",
    "    'city': 'Dhaka', \n",
    "    'Country': 'Bangladesh'\n",
    "}"
   ]
  },
  {
   "cell_type": "code",
   "execution_count": 18,
   "id": "7ed37b66",
   "metadata": {},
   "outputs": [
    {
     "data": {
      "text/plain": [
       "{'name': 'Sopnil', 'age': 28, 'city': 'Dhaka', 'Country': 'Bangladesh'}"
      ]
     },
     "execution_count": 18,
     "metadata": {},
     "output_type": "execute_result"
    }
   ],
   "source": [
    "dic"
   ]
  },
  {
   "cell_type": "code",
   "execution_count": 19,
   "id": "8a64f629",
   "metadata": {},
   "outputs": [
    {
     "name": "stdout",
     "output_type": "stream",
     "text": [
      "final dicyionary, {'name': 'Sopnil', 'age': 28, 'city': 'Dhaka', 'Region': 'Bangladesh'}\n"
     ]
    }
   ],
   "source": [
    "dic['Region']=dic.pop('Country')\n",
    "print('final dicyionary,', str(dic))"
   ]
  },
  {
   "cell_type": "code",
   "execution_count": 20,
   "id": "3506a5dc",
   "metadata": {},
   "outputs": [],
   "source": [
    "num=[10,100,300]    #16 number question \n",
    "import pandas as pd\n",
    "df=pd.DataFrame(num)"
   ]
  },
  {
   "cell_type": "code",
   "execution_count": 21,
   "id": "b0f52b2e",
   "metadata": {},
   "outputs": [
    {
     "data": {
      "text/html": [
       "<div>\n",
       "<style scoped>\n",
       "    .dataframe tbody tr th:only-of-type {\n",
       "        vertical-align: middle;\n",
       "    }\n",
       "\n",
       "    .dataframe tbody tr th {\n",
       "        vertical-align: top;\n",
       "    }\n",
       "\n",
       "    .dataframe thead th {\n",
       "        text-align: right;\n",
       "    }\n",
       "</style>\n",
       "<table border=\"1\" class=\"dataframe\">\n",
       "  <thead>\n",
       "    <tr style=\"text-align: right;\">\n",
       "      <th></th>\n",
       "      <th>0</th>\n",
       "    </tr>\n",
       "  </thead>\n",
       "  <tbody>\n",
       "    <tr>\n",
       "      <th>0</th>\n",
       "      <td>10</td>\n",
       "    </tr>\n",
       "    <tr>\n",
       "      <th>1</th>\n",
       "      <td>100</td>\n",
       "    </tr>\n",
       "    <tr>\n",
       "      <th>2</th>\n",
       "      <td>300</td>\n",
       "    </tr>\n",
       "  </tbody>\n",
       "</table>\n",
       "</div>"
      ],
      "text/plain": [
       "     0\n",
       "0   10\n",
       "1  100\n",
       "2  300"
      ]
     },
     "execution_count": 21,
     "metadata": {},
     "output_type": "execute_result"
    }
   ],
   "source": [
    "df"
   ]
  },
  {
   "cell_type": "code",
   "execution_count": 22,
   "id": "31b77807",
   "metadata": {},
   "outputs": [],
   "source": [
    "#17 number question\n",
    "Dict={\n",
    "    'name': 'Shakil',\n",
    "    'age':27, \n",
    "    'city': 'Berlin',\n",
    "    'country': 'Germany'\n",
    "}"
   ]
  },
  {
   "cell_type": "code",
   "execution_count": 23,
   "id": "004ef4ba",
   "metadata": {},
   "outputs": [
    {
     "data": {
      "text/plain": [
       "{'name': 'Shakil', 'age': 27, 'city': 'Berlin', 'country': 'Germany'}"
      ]
     },
     "execution_count": 23,
     "metadata": {},
     "output_type": "execute_result"
    }
   ],
   "source": [
    "Dict"
   ]
  },
  {
   "cell_type": "code",
   "execution_count": 24,
   "id": "c3fac4a9",
   "metadata": {},
   "outputs": [],
   "source": [
    "Dict.update(\n",
    "    {'age':28,}\n",
    ")"
   ]
  },
  {
   "cell_type": "code",
   "execution_count": 25,
   "id": "0d497ba1",
   "metadata": {},
   "outputs": [
    {
     "data": {
      "text/plain": [
       "{'name': 'Shakil', 'age': 28, 'city': 'Berlin', 'country': 'Germany'}"
      ]
     },
     "execution_count": 25,
     "metadata": {},
     "output_type": "execute_result"
    }
   ],
   "source": [
    "Dict"
   ]
  },
  {
   "cell_type": "code",
   "execution_count": null,
   "id": "4cb88337",
   "metadata": {},
   "outputs": [],
   "source": []
  }
 ],
 "metadata": {
  "kernelspec": {
   "display_name": "Python 3 (ipykernel)",
   "language": "python",
   "name": "python3"
  },
  "language_info": {
   "codemirror_mode": {
    "name": "ipython",
    "version": 3
   },
   "file_extension": ".py",
   "mimetype": "text/x-python",
   "name": "python",
   "nbconvert_exporter": "python",
   "pygments_lexer": "ipython3",
   "version": "3.10.9"
  }
 },
 "nbformat": 4,
 "nbformat_minor": 5
}
